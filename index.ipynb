{
  "cells": [
    {
      "cell_type": "markdown",
      "metadata": {
        "id": "view-in-github",
        "colab_type": "text"
      },
      "source": [
        "<a href=\"https://colab.research.google.com/github/mading225/dsc-git-intro/blob/master/index.ipynb\" target=\"_parent\"><img src=\"https://colab.research.google.com/assets/colab-badge.svg\" alt=\"Open In Colab\"/></a>"
      ]
    },
    {
      "cell_type": "markdown",
      "metadata": {
        "id": "vMwy5GH3ckdH"
      },
      "source": [
        "# Getting Started with NumPy - Lab"
      ]
    },
    {
      "cell_type": "markdown",
      "metadata": {
        "id": "S4WAekwLckdJ"
      },
      "source": [
        "## Introduction"
      ]
    },
    {
      "cell_type": "markdown",
      "metadata": {
        "id": "a-s6Yjy0ckdJ"
      },
      "source": [
        "Now that we have introduced NumPy, let's put it to practice. In this lab, you are going to be creating arrays, performing operations on them, and returning new arrays all using the NumPy library. Let's get started!"
      ]
    },
    {
      "cell_type": "markdown",
      "metadata": {
        "id": "oDxQ7C2VckdJ"
      },
      "source": [
        "## Objectives\n",
        "\n",
        "You will be able to:\n",
        "\n",
        "- Instantiate a numpy array with specified values\n",
        "- Use broadcasting to perform a math operation on an entire numpy array\n"
      ]
    },
    {
      "cell_type": "markdown",
      "metadata": {
        "id": "WA3Jt_OdckdK"
      },
      "source": [
        "## Import `NumPy` under the standard alias"
      ]
    },
    {
      "cell_type": "code",
      "execution_count": 22,
      "metadata": {
        "id": "j5U_nit6ckdK"
      },
      "outputs": [],
      "source": [
        "# Import numpy using the standard alias\n"
      ]
    },
    {
      "cell_type": "code",
      "source": [
        "import numpy as np"
      ],
      "metadata": {
        "id": "IVagnOMNPbGr"
      },
      "execution_count": 23,
      "outputs": []
    },
    {
      "cell_type": "markdown",
      "metadata": {
        "id": "jO6AuYMlckdK"
      },
      "source": [
        "## Generate some mock data"
      ]
    },
    {
      "cell_type": "markdown",
      "metadata": {
        "id": "V4JljC29ckdK"
      },
      "source": [
        "Create a NumPy array for each of the following:\n",
        "    1. Using a range\n",
        "    2. Using a Python list\n",
        "    \n",
        "Below, create a list in Python that has 5 elements (i.e. [0,1,2,3,4]) and assign it to the variable `py_list`.\n",
        "\n",
        "Next, do the same, but instead of a list, create a range with 5 elements and assign it to the variable, `py_range`.\n",
        "\n",
        "Finally, use the list and range to create NumPy arrays and assign the array from list to the variable `array_from_list`, and the array from the range to the variable `array_from_range`."
      ]
    },
    {
      "cell_type": "code",
      "execution_count": 24,
      "metadata": {
        "id": "DsgHuW-WckdL"
      },
      "outputs": [],
      "source": [
        "# Your code here\n",
        "py_list = None\n",
        "py_range = None\n",
        "array_from_list = None\n",
        "array_from_range = None"
      ]
    },
    {
      "cell_type": "code",
      "source": [
        "py_list = [0,1,2,3,4]\n",
        "py_list"
      ],
      "metadata": {
        "colab": {
          "base_uri": "https://localhost:8080/"
        },
        "id": "7U67QkDXPih5",
        "outputId": "47c024a4-a4ce-4853-aa67-e99c5c26bd99"
      },
      "execution_count": 25,
      "outputs": [
        {
          "output_type": "execute_result",
          "data": {
            "text/plain": [
              "[0, 1, 2, 3, 4]"
            ]
          },
          "metadata": {},
          "execution_count": 25
        }
      ]
    },
    {
      "cell_type": "code",
      "source": [
        "num_arr = np.array([py_list])\n",
        "num_arr"
      ],
      "metadata": {
        "id": "UNN9J1j4RNDt",
        "outputId": "e15b4dda-ed57-449c-a452-ba48a843b40d",
        "colab": {
          "base_uri": "https://localhost:8080/"
        }
      },
      "execution_count": 26,
      "outputs": [
        {
          "output_type": "execute_result",
          "data": {
            "text/plain": [
              "array([[0, 1, 2, 3, 4]])"
            ]
          },
          "metadata": {},
          "execution_count": 26
        }
      ]
    },
    {
      "cell_type": "code",
      "source": [
        "py_range = range(5)\n",
        "print(py_range)"
      ],
      "metadata": {
        "colab": {
          "base_uri": "https://localhost:8080/"
        },
        "id": "n8B8IkCxP8Y0",
        "outputId": "2292c29a-f08b-4cca-bc95-269e895fba77"
      },
      "execution_count": 27,
      "outputs": [
        {
          "output_type": "stream",
          "name": "stdout",
          "text": [
            "range(0, 5)\n"
          ]
        }
      ]
    },
    {
      "cell_type": "code",
      "source": [
        "num_arrrrr = np.array([py_range])\n",
        "print(num_arrrrr)"
      ],
      "metadata": {
        "id": "UUFNz4ePRZ3Z",
        "outputId": "925e63ec-bbb1-4f7b-c413-bf933277f9ab",
        "colab": {
          "base_uri": "https://localhost:8080/"
        }
      },
      "execution_count": 28,
      "outputs": [
        {
          "output_type": "stream",
          "name": "stdout",
          "text": [
            "[[0 1 2 3 4]]\n"
          ]
        }
      ]
    },
    {
      "cell_type": "code",
      "source": [
        "type(num_arrrrr)"
      ],
      "metadata": {
        "id": "ybEoiTSTSglp",
        "outputId": "b083e0f2-daaf-4468-8403-bba9a0843cc9",
        "colab": {
          "base_uri": "https://localhost:8080/"
        }
      },
      "execution_count": 29,
      "outputs": [
        {
          "output_type": "execute_result",
          "data": {
            "text/plain": [
              "numpy.ndarray"
            ]
          },
          "metadata": {},
          "execution_count": 29
        }
      ]
    },
    {
      "cell_type": "markdown",
      "metadata": {
        "id": "Ow0ZjkpmckdL"
      },
      "source": [
        "Next, we have a list of heights and weights and we'd like to use them to create a collection of BMIs. However, they are both in inches and pounds (imperial system), respectively.\n",
        "\n",
        "Let's use what we know to create NumPy arrays with the metric equivalent values (height in meters & weight in kg).\n",
        "\n",
        "> **Remember:** *NumPy can make these calculations a lot easier and with less code than a list!*"
      ]
    },
    {
      "cell_type": "markdown",
      "metadata": {
        "id": "JPW4eoDxckdL"
      },
      "source": [
        "> 1.0 inch = 0.0254 meters\n",
        "\n",
        "> 2.2046 lbs = 1 kilogram"
      ]
    },
    {
      "cell_type": "code",
      "execution_count": 30,
      "metadata": {
        "id": "EXpDxvhrckdL"
      },
      "outputs": [],
      "source": [
        "# Use the conversion rate for turning height in inches to meters\n",
        "list_height_inches = [65, 68, 73, 75, 78]\n",
        "\n",
        "# Your code here\n",
        "array_height_inches = None\n",
        "array_height_meters = None"
      ]
    },
    {
      "cell_type": "code",
      "source": [
        "array_height_inches = np.array(list_height_inches)\n",
        "array_height_inches"
      ],
      "metadata": {
        "id": "KH8W_kccU-1K",
        "outputId": "568992de-304a-46ce-f816-f419ebf68aa1",
        "colab": {
          "base_uri": "https://localhost:8080/"
        }
      },
      "execution_count": 37,
      "outputs": [
        {
          "output_type": "execute_result",
          "data": {
            "text/plain": [
              "array([65, 68, 73, 75, 78])"
            ]
          },
          "metadata": {},
          "execution_count": 37
        }
      ]
    },
    {
      "cell_type": "code",
      "source": [
        "array_height_meters = np.array(list_height_inches)*0.0254\n",
        "array_height_meters"
      ],
      "metadata": {
        "id": "piK4rMdbTmT2",
        "outputId": "0ac9f3ed-51f0-444c-a3d2-85384091f317",
        "colab": {
          "base_uri": "https://localhost:8080/"
        }
      },
      "execution_count": 36,
      "outputs": [
        {
          "output_type": "execute_result",
          "data": {
            "text/plain": [
              "array([1.651 , 1.7272, 1.8542, 1.905 , 1.9812])"
            ]
          },
          "metadata": {},
          "execution_count": 36
        }
      ]
    },
    {
      "cell_type": "code",
      "execution_count": 40,
      "metadata": {
        "id": "PUjXcmPdckdL"
      },
      "outputs": [],
      "source": [
        "# Use the conversion rate for turning weight in pounds to kilograms\n",
        "list_weight_pounds = [150, 140, 220, 205, 265]\n",
        "\n",
        "# Your code here\n",
        "array_weight_pounds = None\n",
        "array_weight_kg = None"
      ]
    },
    {
      "cell_type": "code",
      "source": [
        "array_weight_pounds = np.array (list_weight_pounds)\n",
        "array_weight_pounds"
      ],
      "metadata": {
        "id": "zx-EiqMKVUwx",
        "outputId": "a8489aad-229f-4d2f-c1f6-f502e8d4e8c9",
        "colab": {
          "base_uri": "https://localhost:8080/"
        }
      },
      "execution_count": 41,
      "outputs": [
        {
          "output_type": "execute_result",
          "data": {
            "text/plain": [
              "array([150, 140, 220, 205, 265])"
            ]
          },
          "metadata": {},
          "execution_count": 41
        }
      ]
    },
    {
      "cell_type": "code",
      "source": [
        "array_weight_kg = np.array(list_weight_pounds) * 1\n",
        "array_weight_kg"
      ],
      "metadata": {
        "id": "vziAvesLWS8Z",
        "outputId": "0f364d7b-6a67-42d8-8fe3-54935c6613a4",
        "colab": {
          "base_uri": "https://localhost:8080/"
        }
      },
      "execution_count": 45,
      "outputs": [
        {
          "output_type": "execute_result",
          "data": {
            "text/plain": [
              "array([150, 140, 220, 205, 265])"
            ]
          },
          "metadata": {},
          "execution_count": 45
        }
      ]
    },
    {
      "cell_type": "markdown",
      "metadata": {
        "id": "LGcN2P-YckdL"
      },
      "source": [
        "The metric formula for calculating BMI is as follows:\n",
        "\n",
        "> BMI = weight (kg) ÷ height^2 (m^2)\n",
        "\n",
        "So, to get BMI we divide weight by the squared value of height. For example, if I weighed 130kg and was 1.9 meters tall, the calculation would look like:\n",
        "\n",
        "> BMI = 130 / (1.9*1.9)\n",
        "\n",
        "Use the BMI calculation to create a NumPy array of BMIs"
      ]
    },
    {
      "cell_type": "code",
      "execution_count": 46,
      "metadata": {
        "id": "C6fSTnzYckdV"
      },
      "outputs": [],
      "source": [
        "# Your code here\n",
        "BMI_array = None"
      ]
    },
    {
      "cell_type": "code",
      "source": [
        "array_height_meters"
      ],
      "metadata": {
        "id": "c7MamVgKc24B",
        "outputId": "a3a76028-c860-4b28-d5d7-ba7fa4fa47ad",
        "colab": {
          "base_uri": "https://localhost:8080/"
        }
      },
      "execution_count": 63,
      "outputs": [
        {
          "output_type": "execute_result",
          "data": {
            "text/plain": [
              "array([1.651 , 1.7272, 1.8542, 1.905 , 1.9812])"
            ]
          },
          "metadata": {},
          "execution_count": 63
        }
      ]
    },
    {
      "cell_type": "code",
      "source": [
        "array_height_meters*2"
      ],
      "metadata": {
        "id": "gZp1KNFUc595",
        "outputId": "80aced1f-dbb5-4d7b-bd09-abf997f1dc20",
        "colab": {
          "base_uri": "https://localhost:8080/"
        }
      },
      "execution_count": 64,
      "outputs": [
        {
          "output_type": "execute_result",
          "data": {
            "text/plain": [
              "array([3.302 , 3.4544, 3.7084, 3.81  , 3.9624])"
            ]
          },
          "metadata": {},
          "execution_count": 64
        }
      ]
    },
    {
      "cell_type": "code",
      "source": [
        "BMI_array = array_weight_kg / array_height_meters\n",
        "BMI_array"
      ],
      "metadata": {
        "id": "WTCDfSbncXxb",
        "outputId": "aa289602-f28b-47fd-bebf-ab9134ab8352",
        "colab": {
          "base_uri": "https://localhost:8080/"
        }
      },
      "execution_count": 65,
      "outputs": [
        {
          "output_type": "execute_result",
          "data": {
            "text/plain": [
              "array([ 90.85402786,  81.05604447, 118.64955237, 107.61154856,\n",
              "       133.7573188 ])"
            ]
          },
          "metadata": {},
          "execution_count": 65
        }
      ]
    },
    {
      "cell_type": "code",
      "source": [
        "# get a vriable in height squared\n",
        "array_height_meters"
      ],
      "metadata": {
        "id": "W3DwnhVLfuNG",
        "outputId": "14b176c8-f52a-4370-fce7-966d2d896305",
        "colab": {
          "base_uri": "https://localhost:8080/"
        }
      },
      "execution_count": 66,
      "outputs": [
        {
          "output_type": "execute_result",
          "data": {
            "text/plain": [
              "array([1.651 , 1.7272, 1.8542, 1.905 , 1.9812])"
            ]
          },
          "metadata": {},
          "execution_count": 66
        }
      ]
    },
    {
      "cell_type": "code",
      "source": [
        "height_squared = (array_height_meters * array_height_meters)\n",
        "height_squared"
      ],
      "metadata": {
        "id": "A8x9Ki1RgENc",
        "outputId": "86d0e8aa-b698-45d4-c1be-2af8e6398433",
        "colab": {
          "base_uri": "https://localhost:8080/"
        }
      },
      "execution_count": 67,
      "outputs": [
        {
          "output_type": "execute_result",
          "data": {
            "text/plain": [
              "array([2.725801  , 2.98321984, 3.43805764, 3.629025  , 3.92515344])"
            ]
          },
          "metadata": {},
          "execution_count": 67
        }
      ]
    },
    {
      "cell_type": "code",
      "source": [
        "BMI_array = array_weight_kg / array_height_meters\n",
        "BMI_array"
      ],
      "metadata": {
        "id": "kfgFBDpjgtK6",
        "outputId": "0ff341f0-c982-4c99-a127-4ee8275d65f9",
        "colab": {
          "base_uri": "https://localhost:8080/"
        }
      },
      "execution_count": 68,
      "outputs": [
        {
          "output_type": "execute_result",
          "data": {
            "text/plain": [
              "array([ 90.85402786,  81.05604447, 118.64955237, 107.61154856,\n",
              "       133.7573188 ])"
            ]
          },
          "metadata": {},
          "execution_count": 68
        }
      ]
    },
    {
      "cell_type": "markdown",
      "metadata": {
        "id": "zJvfByPHckdV"
      },
      "source": [
        "## Create a vector of ones the same size as your BMI vector using `np.ones()`"
      ]
    },
    {
      "cell_type": "code",
      "execution_count": 69,
      "metadata": {
        "id": "q028YkuzckdV"
      },
      "outputs": [],
      "source": [
        "# Your code here\n",
        "identity = None\n",
        "identity"
      ]
    },
    {
      "cell_type": "code",
      "source": [
        "identity = np.ones(5)\n",
        "identity"
      ],
      "metadata": {
        "id": "dHWF8nnehTpm",
        "outputId": "b209f14b-7ac7-4de8-aa7c-af334573b30f",
        "colab": {
          "base_uri": "https://localhost:8080/"
        }
      },
      "execution_count": 75,
      "outputs": [
        {
          "output_type": "execute_result",
          "data": {
            "text/plain": [
              "array([1., 1., 1., 1., 1.])"
            ]
          },
          "metadata": {},
          "execution_count": 75
        }
      ]
    },
    {
      "cell_type": "markdown",
      "metadata": {
        "id": "TtcrGJK8ckdV"
      },
      "source": [
        "## Multiply the BMI_array by your vector of ones\n",
        "The resulting product should have the same values as your original BMI numpy array."
      ]
    },
    {
      "cell_type": "code",
      "source": [
        "BMI_array"
      ],
      "metadata": {
        "id": "HLliyoHMi3tb",
        "outputId": "f8b275d9-3cf0-4423-f80e-015cf6024344",
        "colab": {
          "base_uri": "https://localhost:8080/"
        }
      },
      "execution_count": 77,
      "outputs": [
        {
          "output_type": "execute_result",
          "data": {
            "text/plain": [
              "array([ 90.85402786,  81.05604447, 118.64955237, 107.61154856,\n",
              "       133.7573188 ])"
            ]
          },
          "metadata": {},
          "execution_count": 77
        }
      ]
    },
    {
      "cell_type": "code",
      "execution_count": 76,
      "metadata": {
        "id": "yqcr3kA3ckdV",
        "colab": {
          "base_uri": "https://localhost:8080/"
        },
        "outputId": "5c23319f-451c-4aa3-9712-08a563c1cb4c"
      },
      "outputs": [
        {
          "output_type": "execute_result",
          "data": {
            "text/plain": [
              "array([ 90.85402786,  81.05604447, 118.64955237, 107.61154856,\n",
              "       133.7573188 ])"
            ]
          },
          "metadata": {},
          "execution_count": 76
        }
      ],
      "source": [
        "# Your code here\n",
        "chieftaincy = (BMI_array) * (identity)\n",
        "chieftaincy"
      ]
    },
    {
      "cell_type": "markdown",
      "metadata": {
        "id": "AO1Ce0NhckdW"
      },
      "source": [
        "## Level Up: Using NumPy to Parse a File\n",
        "The Pandas library that we've been using is built on top of NumPy; all columns/series in a Pandas DataFrame are built using NumPy arrays. To get a better idea of a how a built-in method like `pd.read_csv()` works, we'll try and recreate that here!"
      ]
    },
    {
      "cell_type": "code",
      "execution_count": 57,
      "metadata": {
        "id": "xG3xEz7DckdW",
        "colab": {
          "base_uri": "https://localhost:8080/"
        },
        "outputId": "43c9db7c-556f-4b26-ad8d-7ee58bbf4bd2"
      },
      "outputs": [
        {
          "output_type": "stream",
          "name": "stdout",
          "text": [
            "The file has 21 lines.\n"
          ]
        }
      ],
      "source": [
        "# Open a text file (csv files are just plaintext separated by commas)\n",
        "f = open('bp.txt')\n",
        "n_rows = len(f.readlines())\n",
        "# Print number of lines in the file\n",
        "print('The file has {} lines.'.format(n_rows))\n",
        "# After using readlines, we must reopen the file\n",
        "f = open('bp.txt')\n",
        "# The file has values separated by tabs; we read the first line and check it's length\n",
        "n_cols = (len(f.readline().split('\\t')))\n",
        "\n",
        "f = open('bp.txt')\n",
        "\n",
        "# Your code here\n",
        "# Pseudocode outline below\n",
        "#1) Create a matrix of zeros that is the same size of the file\n",
        "#2) Iterate through the file: \"for line in f:\" Hint: using enumerate will also be required\n",
        "    #3) Update each row of the matrix with the new stream of data\n",
        "    #Hint: skip the first row (it's just column names, not the data.)\n",
        "#4) Preview your results; you should now have a NumPy matrix with the data from the file\n"
      ]
    },
    {
      "cell_type": "code",
      "source": [
        "f = open('bp.txt')\n",
        "f"
      ],
      "metadata": {
        "id": "OW2JaKXta1mv",
        "outputId": "2295b699-c0ec-4201-ba3b-2d38aed937f6",
        "colab": {
          "base_uri": "https://localhost:8080/"
        }
      },
      "execution_count": 59,
      "outputs": [
        {
          "output_type": "execute_result",
          "data": {
            "text/plain": [
              "<_io.TextIOWrapper name='bp.txt' mode='r' encoding='utf-8'>"
            ]
          },
          "metadata": {},
          "execution_count": 59
        }
      ]
    },
    {
      "cell_type": "markdown",
      "metadata": {
        "id": "296KziJRckdW"
      },
      "source": [
        "## Summary"
      ]
    },
    {
      "cell_type": "markdown",
      "metadata": {
        "id": "aScWnSyRckdW"
      },
      "source": [
        "In this lab, we practiced creating NumPy arrays from both lists and ranges. We then practiced performing math operations like converting imperial measurements to metric measurements on each element of a NumPy array to create new arrays with new values. Finally, we used both of our new NumPy arrays to operate on each other and create new arrays containing the BMIs from our arrays containing heights and weights."
      ]
    }
  ],
  "metadata": {
    "kernelspec": {
      "display_name": "Python 3",
      "language": "python",
      "name": "python3"
    },
    "language_info": {
      "codemirror_mode": {
        "name": "ipython",
        "version": 3
      },
      "file_extension": ".py",
      "mimetype": "text/x-python",
      "name": "python",
      "nbconvert_exporter": "python",
      "pygments_lexer": "ipython3",
      "version": "3.7.3"
    },
    "colab": {
      "provenance": [],
      "toc_visible": true,
      "include_colab_link": true
    }
  },
  "nbformat": 4,
  "nbformat_minor": 0
}